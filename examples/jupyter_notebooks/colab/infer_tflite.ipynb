{
  "nbformat": 4,
  "nbformat_minor": 0,
  "metadata": {
    "colab": {
      "name": "Infer-tflite.ipynb",
      "provenance": [],
      "authorship_tag": "ABX9TyOh4bkViU2xO4Jxe5GdhfiA",
      "include_colab_link": true
    },
    "kernelspec": {
      "name": "python3",
      "display_name": "Python 3"
    }
  },
  "cells": [
    {
      "cell_type": "markdown",
      "metadata": {
        "id": "view-in-github",
        "colab_type": "text"
      },
      "source": [
        "<a href=\"https://colab.research.google.com/github/kumardesappan/colab-notebooks/blob/main/infer_tflite.ipynb\" target=\"_parent\"><img src=\"https://colab.research.google.com/assets/colab-badge.svg\" alt=\"Open In Colab\"/></a>"
      ]
    },
    {
      "cell_type": "code",
      "metadata": {
        "id": "RRlwdlGzUumd"
      },
      "source": [
        "!wget https://akm-img-a-in.tosshub.com/indiatoday/images/story/201804/jet.jpeg\n",
        "!wget https://tfhub.dev/tensorflow/lite-model/efficientnet/lite0/fp32/2?lite-format=tflite\n",
        "!mv /content/2?lite-format=tflite efficientnet-lit0.tflite\n",
        "!pip3 install tflite_runtime==2.8.0"
      ],
      "execution_count": null,
      "outputs": []
    },
    {
      "cell_type": "code",
      "metadata": {
        "id": "WsDWsaQKTTm3",
        "colab": {
          "base_uri": "https://localhost:8080/"
        },
        "outputId": "301c0175-101f-408d-e8f1-5e5675645a46"
      },
      "source": [
        "import tflite_runtime.interpreter as tflite\n",
        "import numpy as np\n",
        "import PIL.Image as Image\n",
        "\n",
        "model_path =\"./efficientnet-lit0.tflite\"\n",
        "input_file =\"jet.jpeg\"\n",
        "input_mean =127.5\n",
        "input_std  =127.5\n",
        "\n",
        "interpreter = tflite.Interpreter(model_path=model_path)\n",
        "interpreter.allocate_tensors()\n",
        "  \n",
        "input_details = interpreter.get_input_details()\n",
        "output_details = interpreter.get_output_details()\n",
        "\n",
        "#Pre-Process input\n",
        "height = input_details[0]['shape'][1]\n",
        "width = input_details[0]['shape'][2]\n",
        "img = Image.open(input_file).resize((width, height))\n",
        "input_data = np.expand_dims(img, axis=0)\n",
        "input_data = (np.float32(input_data) - input_mean) / input_std\n",
        "interpreter.set_tensor(input_details[0]['index'], input_data)\n",
        "\n",
        "#Run inference session\n",
        "interpreter.invoke()\n",
        "\n",
        "#Post Process Result\n",
        "output_data = interpreter.get_tensor(output_details[0]['index'])\n",
        "results = np.squeeze(output_data)\n",
        "print(results.argsort()[-5:][::-1])"
      ],
      "execution_count": 2,
      "outputs": [
        {
          "output_type": "stream",
          "name": "stdout",
          "text": [
            "[895 403 744 657  51]\n"
          ]
        }
      ]
    }
  ]
}